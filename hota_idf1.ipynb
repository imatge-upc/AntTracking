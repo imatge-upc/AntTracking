{
   "cells": [
      {
         "cell_type": "code",
         "execution_count": 181,
         "metadata": {},
         "outputs": [
            {
               "name": "stdout",
               "output_type": "stream",
               "text": [
                  "[6.4, 4.8]\n"
               ]
            }
         ],
         "source": [
            "from evaldet import Tracks, MOTMetrics\n",
            "from matplotlib import pyplot as plt\n",
            "import numpy as np\n",
            "import pandas as pd\n",
            "\n",
            "\n",
            "pd.set_option('precision', 2)\n",
            "\n",
            "print(plt.rcParams[\"figure.figsize\"])"
         ]
      },
      {
         "cell_type": "code",
         "execution_count": 182,
         "metadata": {},
         "outputs": [],
         "source": [
            "\n",
            "#gt_tracks = Tracks.from_mot('./DATA/output_4_gt.txt')\n",
            "gt_tracks = Tracks.from_mot('./DATA/minut_annotations.txt')\n",
            "\n",
            "### ¡¡¡FILES USING GT TRACKS AS THE BASE!!! ###\n",
            "#tracks = Tracks.from_mot('./OUTPUT/reid_test_00025/results.txt')                           # 0.59 (LocA=1) (--thr=0.00025)\n",
            "\n",
            "### ¡¡¡FILES USING THE SAME DETECTIONS USED FOR GENERATING THE GROUND TRUTH!!! ###\n",
            "#tracks = Tracks.from_mot('./OUTPUT/ocsort_tracking_output_4_16163.txt')                    # 0.87 (LocA=1)\n",
            "#tracks = Tracks.from_mot('./OUTPUT/results_preds_deepocsort.txt')                          # 0.81 (LocA=1)\n",
            "\n",
            "### ¡¡¡FILES USING THE DETECTIONS USED AS A BASE FOR THE GROUND TRUTH!!! ###\n",
            "#tracks = Tracks.from_mot('./OUTPUT/minut_fgbg_ocsort_trck.txt')                            # 0.28 (LocA=0.65)\n",
            "tracks = Tracks.from_mot('./OUTPUT/minut_fgbg_deepocsort_trck.txt')                        # 0.64 (LocA=0.93)\n",
            "\n",
            "### FILES USING KALMAN PREDICTIONS (AND SAME DETECTIONS) ###\n",
            "#tracks = Tracks.from_mot('./OUTPUT/ocsort_tracking_output_4_kalman.txt')                   # 0.41 (LocA=0.68)\n",
            "#tracks = Tracks.from_mot('./OUTPUT/output_4_kalman_pca.txt')                               # 0.41 (LocA=0.68)\n",
            "\n",
            "### FILES USING NEW DETECTORS WITH THIS DATA INCLUDED ###\n",
            "#tracks = Tracks.from_mot('./OUTPUT/minut_yolo_ocsort_trck.txt')                            # 0.18 (LocA=0.63)\n",
            "#tracks = Tracks.from_mot('./OUTPUT/minut_post_yolo_ocsort_trck.txt')                       # 0.23 (LocA=0.68)\n",
            "#tracks = Tracks.from_mot('./OUTPUT/minut_post_yolo_deepocsort_trck.txt')                   # 0.26 (LocA=0.71)\n",
            "\n",
            "### FILES USING NEW DETECTORS WITH THIS DATA INCLUDED ###\n",
            "# TODO: Minut using yolo & OCSORT\n",
            "# TODO: Minut using yolo & DeepOCSORT\n",
            "\n",
            "### FILES USING NEW DETECTORS ###\n",
            "#tracks = Tracks.from_mot('./OUTPUT/output_4_gt_trck_yolo_sahi_320_v2.txt')                 # 0.04 (LocA=0.58)\n",
            "#tracks = Tracks.from_mot('./OUTPUT/output_4_gt_trck_yolo_sahi_640_08.txt')                 # 0.09 (LocA=0.59)\n",
            "#tracks = Tracks.from_mot('./OUTPUT/output_4_gt_trck_yolo_sahi_640_09.txt')                 # 0.14 (LocA=0.64)\n",
            "#tracks = Tracks.from_mot('./OUTPUT/output_4_gt_trck_yolo_sahi_640_12.txt')                 # 0.005 (LocA=0.63)\n",
            "#tracks = Tracks.from_mot('./OUTPUT/post_trck_output_4_gt_trck_yolo_sahi_640_08.txt')       # 0.09 (LocA=0.59)\n",
            "#tracks = Tracks.from_mot('./OUTPUT/post_trck_output_4_gt_trck_yolo_sahi_640_09.txt')       # 0.23 (LocA=0.64)\n",
            "#tracks = Tracks.from_mot('./OUTPUT/post_trck_output_4_gt_trck_yolo_sahi_640_12.txt')       # 0.006 (LocA=0.63)\n",
            "#tracks = Tracks.from_mot('./OUTPUT/post_dets_output_4_gt_trck_yolo_sahi_640_08.txt')       # 0.09 (LocA=0.59)\n",
            "#tracks = Tracks.from_mot('./OUTPUT/post_dets_output_4_gt_trck_yolo_sahi_640_09.txt')       # 0.23 (LocA=0.64) (--trackThreshold=0.4 --iouThreshold=0.2 --associationFunc=ciou)\n",
            "#tracks = Tracks.from_mot('./OUTPUT/post_dets_output_4_gt_trck_yolo_sahi_640_12.txt')       # 0.006 (LocA=0.63)\n",
            "#tracks = Tracks.from_mot('./OUTPUT/post_dets_output_4_gt_trck_yolo_sahi_640_09_v2.txt')    # 0.24 (LocA=0.64) (--trackThreshold=0.2 --iouThreshold=0.3 --associationFunc=ciou)\n",
            "#tracks = Tracks.from_mot('./OUTPUT/post_dets_output_4_gt_trck_yolo_sahi_640_09_v3.txt')    # 0.22 (LocA=0.64) (--trackThreshold=0.6 --iouThreshold=0.1 --associationFunc=ciou)\n",
            "#tracks = Tracks.from_mot('./OUTPUT/post_dets_output_4_gt_trck_yolo_sahi_640_09_v4.txt')    # 0.23 (LocA=0.64) (--trackThreshold=0.1 --iouThreshold=0.5 --associationFunc=ciou)\n",
            "#tracks = Tracks.from_mot('./OUTPUT/post_dets_output_4_gt_trck_yolo_sahi_640_09_v5.txt')    # 0.24 (LocA=0.64) (--trackThreshold=0.4 --iouThreshold=0.3 --associationFunc=ciou)\n",
            "\n",
            "\n",
            "\n",
            "eval_obj = MOTMetrics(clearmot_dist_threshold=0.5, id_dist_threshold=0.5)"
         ]
      },
      {
         "cell_type": "code",
         "execution_count": 183,
         "metadata": {},
         "outputs": [],
         "source": [
            "metrics = eval_obj.compute(gt_tracks, tracks, clearmot_metrics=True, id_metrics=True, hota_metrics=True)\n",
            "metrics['clearmot']['MOTP'] = 1 - metrics['clearmot']['MOTP']"
         ]
      },
      {
         "cell_type": "code",
         "execution_count": 184,
         "metadata": {},
         "outputs": [
            {
               "name": "stdout",
               "output_type": "stream",
               "text": [
                  "CLEARMOT\n",
                  "        MOTP  MOTA  FP_CLEAR  FN_CLEAR  IDSW\n",
                  "values  0.93  0.84       243       815    11\n",
                  "----------\n",
                  "IDs\n",
                  "        IDTP  IDFP  IDFN   IDP   IDR  IDF1\n",
                  "values  3843  2325  2897  0.62  0.57   0.6\n",
                  "----------\n",
                  "HOTA\n",
                  "        HOTA  DetA  AssA  LocA\n",
                  "values  0.64  0.81   0.5  0.93\n"
               ]
            }
         ],
         "source": [
            "print('CLEARMOT')\n",
            "print(pd.DataFrame(metrics['clearmot'], index=['values']))\n",
            "print('-' * 10)\n",
            "print('IDs')\n",
            "print(pd.DataFrame(metrics['id'], index=['values']))\n",
            "print('-' * 10)\n",
            "print('HOTA')\n",
            "print(pd.DataFrame({k : v for k, v in metrics['hota'].items() if k in ['HOTA', 'DetA', 'AssA', 'LocA']}, index=['values']))"
         ]
      },
      {
         "cell_type": "code",
         "execution_count": 185,
         "metadata": {},
         "outputs": [
            {
               "name": "stdout",
               "output_type": "stream",
               "text": [
                  "----------\n",
                  "HOTA alpha\n",
                  "      $HOTA_\\alpha$  $DetA_\\alpha$  $AssA_\\alpha$  $LocA_\\alpha$\n",
                  "0.05           0.21           0.23           0.19           0.96\n",
                  "0.10           0.61           0.74           0.51           0.95\n",
                  "0.15           0.62           0.75           0.51           0.95\n",
                  "0.20           0.62           0.75           0.51           0.95\n",
                  "0.25           0.62           0.76           0.51           0.95\n",
                  "0.30           0.62           0.78           0.50           0.94\n",
                  "0.35           0.63           0.79           0.50           0.94\n",
                  "0.40           0.64           0.81           0.50           0.94\n",
                  "0.45           0.65           0.83           0.50           0.93\n",
                  "0.50           0.65           0.85           0.50           0.93\n",
                  "0.55           0.66           0.87           0.51           0.92\n",
                  "0.60           0.67           0.88           0.51           0.92\n",
                  "0.65           0.68           0.90           0.52           0.91\n",
                  "0.70           0.69           0.91           0.53           0.91\n",
                  "0.75           0.70           0.91           0.53           0.91\n",
                  "0.80           0.70           0.91           0.53           0.91\n",
                  "0.85           0.70           0.92           0.53           0.91\n",
                  "0.90           0.70           0.92           0.53           0.91\n",
                  "0.95           0.70           0.92           0.53           0.91\n"
               ]
            }
         ],
         "source": [
            "print('-' * 10)\n",
            "print('HOTA alpha')\n",
            "\n",
            "new = '_\\\\'\n",
            "hota_alpha = pd.DataFrame({fr\"${k.replace('_', new)}$\" : v for k, v in metrics['hota'].items() if k not in ['HOTA', 'DetA', 'AssA', 'LocA', 'alphas_HOTA']}, index=metrics['hota']['alphas_HOTA'])\n",
            "print(hota_alpha)"
         ]
      },
      {
         "cell_type": "code",
         "execution_count": 186,
         "metadata": {},
         "outputs": [
            {
               "data": {
                  "text/plain": [
                     "(0.0, 1.0)"
                  ]
               },
               "execution_count": 186,
               "metadata": {},
               "output_type": "execute_result"
            },
            {
               "data": {
                  "image/png": "[encoded data removed]",
                  "text/plain": [
                     "<Figure size 640x480 with 1 Axes>"
                  ]
               },
               "metadata": {},
               "output_type": "display_data"
            }
         ],
         "source": [
            "fig = hota_alpha.plot.line()\n",
            "fig.grid(True)\n",
            "fig.set_xlim(0, 1)\n",
            "fig.set_ylim(0, 1)"
         ]
      }
   ],
   "metadata": {
      "kernelspec": {
         "display_name": "Python 3",
         "language": "python",
         "name": "python3"
      },
      "language_info": {
         "codemirror_mode": {
            "name": "ipython",
            "version": 3
         },
         "file_extension": ".py",
         "mimetype": "text/x-python",
         "name": "python",
         "nbconvert_exporter": "python",
         "pygments_lexer": "ipython3",
         "version": "3.10.6"
      },
      "orig_nbformat": 4
   },
   "nbformat": 4,
   "nbformat_minor": 2
}