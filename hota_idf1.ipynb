{
   "cells": [
      {
         "cell_type": "code",
         "execution_count": 1,
         "metadata": {},
         "outputs": [
            {
               "name": "stdout",
               "output_type": "stream",
               "text": [
                  "[6.4, 4.8]\n"
               ]
            }
         ],
         "source": [
            "from evaldet import Tracks, MOTMetrics\n",
            "from matplotlib import pyplot as plt\n",
            "import numpy as np\n",
            "import pandas as pd\n",
            "\n",
            "\n",
            "pd.set_option('precision', 2)\n",
            "\n",
            "print(plt.rcParams[\"figure.figsize\"])"
         ]
      },
      {
         "cell_type": "code",
         "execution_count": 2,
         "metadata": {},
         "outputs": [],
         "source": [
            "\n",
            "gt_tracks = Tracks.from_mot('./DATA/all_ants_0-007_gt_tcks.txt')\n",
            "\n",
            "eval_obj = MOTMetrics(clearmot_dist_threshold=0.5, id_dist_threshold=0.5)"
         ]
      },
      {
         "cell_type": "code",
         "execution_count": 3,
         "metadata": {},
         "outputs": [
            {
               "name": "stdout",
               "output_type": "stream",
               "text": [
                  "CLEARMOT\n",
                  "        MOTP      MOTA  FP_CLEAR  FN_CLEAR  IDSW\n",
                  "values  0.68 -8.37e-04      3278      9824    46\n",
                  "----------\n",
                  "IDs\n",
                  "        IDTP  IDFP   IDFN   IDP   IDR  IDF1\n",
                  "values  2925  3666  10212  0.44  0.22   0.3\n",
                  "----------\n",
                  "HOTA\n",
                  "        HOTA  DetA  AssA  LocA\n",
                  "values  0.27   0.2  0.36   0.7\n"
               ]
            }
         ],
         "source": [
            "tracks = Tracks.from_mot('./OUTPUT/all_ants_0-007_bgfg_sort30age03iou_151.txt')\n",
            "\n",
            "metrics = eval_obj.compute(gt_tracks, tracks, clearmot_metrics=True, id_metrics=True, hota_metrics=True)\n",
            "metrics['clearmot']['MOTP'] = 1 - metrics['clearmot']['MOTP']\n",
            "\n",
            "print('CLEARMOT')\n",
            "print(pd.DataFrame(metrics['clearmot'], index=['values']))\n",
            "print('-' * 10)\n",
            "print('IDs')\n",
            "print(pd.DataFrame(metrics['id'], index=['values']))\n",
            "print('-' * 10)\n",
            "print('HOTA')\n",
            "print(pd.DataFrame({k : v for k, v in metrics['hota'].items() if k in ['HOTA', 'DetA', 'AssA', 'LocA']}, index=['values']))"
         ]
      },
      {
         "cell_type": "code",
         "execution_count": 4,
         "metadata": {},
         "outputs": [
            {
               "name": "stdout",
               "output_type": "stream",
               "text": [
                  "CLEARMOT\n",
                  "        MOTP  MOTA  FP_CLEAR  FN_CLEAR  IDSW\n",
                  "values  0.75 -0.02      5897      7445     4\n",
                  "----------\n",
                  "IDs\n",
                  "        IDTP  IDFP  IDFN   IDP   IDR  IDF1\n",
                  "values  5678  5911  7459  0.49  0.43  0.46\n",
                  "----------\n",
                  "HOTA\n",
                  "        HOTA  DetA  AssA  LocA\n",
                  "values  0.48   0.4  0.61  0.74\n"
               ]
            }
         ],
         "source": [
            "tracks = Tracks.from_mot('./OUTPUT/all_ants_0-007_yolo_sort30age03iou_151.txt')\n",
            "\n",
            "metrics = eval_obj.compute(gt_tracks, tracks, clearmot_metrics=True, id_metrics=True, hota_metrics=True)\n",
            "metrics['clearmot']['MOTP'] = 1 - metrics['clearmot']['MOTP']\n",
            "\n",
            "print('CLEARMOT')\n",
            "print(pd.DataFrame(metrics['clearmot'], index=['values']))\n",
            "print('-' * 10)\n",
            "print('IDs')\n",
            "print(pd.DataFrame(metrics['id'], index=['values']))\n",
            "print('-' * 10)\n",
            "print('HOTA')\n",
            "print(pd.DataFrame({k : v for k, v in metrics['hota'].items() if k in ['HOTA', 'DetA', 'AssA', 'LocA']}, index=['values']))"
         ]
      },
      {
         "cell_type": "code",
         "execution_count": 5,
         "metadata": {},
         "outputs": [
            {
               "name": "stdout",
               "output_type": "stream",
               "text": [
                  "CLEARMOT\n",
                  "        MOTP  MOTA  FP_CLEAR  FN_CLEAR  IDSW\n",
                  "values   0.7 -0.03      3632      9897    25\n",
                  "----------\n",
                  "IDs\n",
                  "        IDTP  IDFP   IDFN   IDP   IDR  IDF1\n",
                  "values  3024  3848  10113  0.44  0.23   0.3\n",
                  "----------\n",
                  "HOTA\n",
                  "        HOTA  DetA  AssA  LocA\n",
                  "values  0.28   0.2   0.4  0.71\n"
               ]
            }
         ],
         "source": [
            "tracks = Tracks.from_mot('./OUTPUT/all_ants_0-007_bgfg_ocsort04th04ciou_151.txt')\n",
            "\n",
            "metrics = eval_obj.compute(gt_tracks, tracks, clearmot_metrics=True, id_metrics=True, hota_metrics=True)\n",
            "metrics['clearmot']['MOTP'] = 1 - metrics['clearmot']['MOTP']\n",
            "\n",
            "print('CLEARMOT')\n",
            "print(pd.DataFrame(metrics['clearmot'], index=['values']))\n",
            "print('-' * 10)\n",
            "print('IDs')\n",
            "print(pd.DataFrame(metrics['id'], index=['values']))\n",
            "print('-' * 10)\n",
            "print('HOTA')\n",
            "print(pd.DataFrame({k : v for k, v in metrics['hota'].items() if k in ['HOTA', 'DetA', 'AssA', 'LocA']}, index=['values']))"
         ]
      },
      {
         "cell_type": "code",
         "execution_count": 6,
         "metadata": {},
         "outputs": [
            {
               "name": "stdout",
               "output_type": "stream",
               "text": [
                  "CLEARMOT\n",
                  "        MOTP      MOTA  FP_CLEAR  FN_CLEAR  IDSW\n",
                  "values  0.75 -2.28e-04      5692      7444     4\n",
                  "----------\n",
                  "IDs\n",
                  "        IDTP  IDFP  IDFN  IDP   IDR  IDF1\n",
                  "values  5662  5723  7475  0.5  0.43  0.46\n",
                  "----------\n",
                  "HOTA\n",
                  "        HOTA  DetA  AssA  LocA\n",
                  "values  0.48  0.39  0.61  0.74\n"
               ]
            }
         ],
         "source": [
            "tracks = Tracks.from_mot('./OUTPUT/all_ants_0-007_yolo_fastreid_deepocsort04ciou_151.txt')\n",
            "\n",
            "metrics = eval_obj.compute(gt_tracks, tracks, clearmot_metrics=True, id_metrics=True, hota_metrics=True)\n",
            "metrics['clearmot']['MOTP'] = 1 - metrics['clearmot']['MOTP']\n",
            "\n",
            "print('CLEARMOT')\n",
            "print(pd.DataFrame(metrics['clearmot'], index=['values']))\n",
            "print('-' * 10)\n",
            "print('IDs')\n",
            "print(pd.DataFrame(metrics['id'], index=['values']))\n",
            "print('-' * 10)\n",
            "print('HOTA')\n",
            "print(pd.DataFrame({k : v for k, v in metrics['hota'].items() if k in ['HOTA', 'DetA', 'AssA', 'LocA']}, index=['values']))"
         ]
      },
      {
         "cell_type": "code",
         "execution_count": 7,
         "metadata": {},
         "outputs": [
            {
               "name": "stdout",
               "output_type": "stream",
               "text": [
                  "CLEARMOT\n",
                  "        MOTP  MOTA  FP_CLEAR  FN_CLEAR  IDSW\n",
                  "values  0.76 -0.03      6085      7440     6\n",
                  "----------\n",
                  "IDs\n",
                  "        IDTP  IDFP  IDFN   IDP   IDR  IDF1\n",
                  "values  5662  6120  7475  0.48  0.43  0.45\n",
                  "----------\n",
                  "HOTA\n",
                  "        HOTA  DetA  AssA  LocA\n",
                  "values  0.48   0.4  0.62  0.74\n"
               ]
            }
         ],
         "source": [
            "tracks = Tracks.from_mot('./OUTPUT/all_ants_0-007_yolo_fastreid_deepocsort04ciou_gsi_151.txt')\n",
            "\n",
            "metrics = eval_obj.compute(gt_tracks, tracks, clearmot_metrics=True, id_metrics=True, hota_metrics=True)\n",
            "metrics['clearmot']['MOTP'] = 1 - metrics['clearmot']['MOTP']\n",
            "\n",
            "print('CLEARMOT')\n",
            "print(pd.DataFrame(metrics['clearmot'], index=['values']))\n",
            "print('-' * 10)\n",
            "print('IDs')\n",
            "print(pd.DataFrame(metrics['id'], index=['values']))\n",
            "print('-' * 10)\n",
            "print('HOTA')\n",
            "print(pd.DataFrame({k : v for k, v in metrics['hota'].items() if k in ['HOTA', 'DetA', 'AssA', 'LocA']}, index=['values']))"
         ]
      },
      {
         "cell_type": "code",
         "execution_count": 8,
         "metadata": {},
         "outputs": [
            {
               "name": "stdout",
               "output_type": "stream",
               "text": [
                  "CLEARMOT\n",
                  "        MOTP  MOTA  FP_CLEAR  FN_CLEAR  IDSW\n",
                  "values  0.73  -0.1      1477     12159   779\n",
                  "----------\n",
                  "IDs\n",
                  "        IDTP  IDFP   IDFN   IDP   IDR  IDF1\n",
                  "values   181  2274  12956  0.07  0.01  0.02\n",
                  "----------\n",
                  "HOTA\n",
                  "        HOTA  DetA  AssA  LocA\n",
                  "values  0.03  0.08  0.01  0.71\n"
               ]
            }
         ],
         "source": [
            "tracks = Tracks.from_mot('./OUTPUT/all_ants_0-007_yolo_fastreid_deepsort01iou30age_151.txt')\n",
            "\n",
            "metrics = eval_obj.compute(gt_tracks, tracks, clearmot_metrics=True, id_metrics=True, hota_metrics=True)\n",
            "metrics['clearmot']['MOTP'] = 1 - metrics['clearmot']['MOTP']\n",
            "\n",
            "print('CLEARMOT')\n",
            "print(pd.DataFrame(metrics['clearmot'], index=['values']))\n",
            "print('-' * 10)\n",
            "print('IDs')\n",
            "print(pd.DataFrame(metrics['id'], index=['values']))\n",
            "print('-' * 10)\n",
            "print('HOTA')\n",
            "print(pd.DataFrame({k : v for k, v in metrics['hota'].items() if k in ['HOTA', 'DetA', 'AssA', 'LocA']}, index=['values']))"
         ]
      },
      {
         "cell_type": "code",
         "execution_count": 9,
         "metadata": {},
         "outputs": [
            {
               "name": "stdout",
               "output_type": "stream",
               "text": [
                  "CLEARMOT\n",
                  "        MOTP  MOTA  FP_CLEAR  FN_CLEAR  IDSW\n",
                  "values  0.69 -0.35      4651     13043    14\n",
                  "----------\n",
                  "IDs\n",
                  "        IDTP  IDFP   IDFN   IDP       IDR      IDF1\n",
                  "values    77  4668  13060  0.02  5.86e-03  8.61e-03\n",
                  "----------\n",
                  "HOTA\n",
                  "        HOTA  DetA  AssA  LocA\n",
                  "values  0.01  0.01  0.01  0.65\n"
               ]
            }
         ],
         "source": [
            "tracks = Tracks.from_mot('./OUTPUT/all_ants_0-007_yolo_fastreid_deepsort01iou30age_gsi_151.txt')\n",
            "\n",
            "metrics = eval_obj.compute(gt_tracks, tracks, clearmot_metrics=True, id_metrics=True, hota_metrics=True)\n",
            "metrics['clearmot']['MOTP'] = 1 - metrics['clearmot']['MOTP']\n",
            "\n",
            "print('CLEARMOT')\n",
            "print(pd.DataFrame(metrics['clearmot'], index=['values']))\n",
            "print('-' * 10)\n",
            "print('IDs')\n",
            "print(pd.DataFrame(metrics['id'], index=['values']))\n",
            "print('-' * 10)\n",
            "print('HOTA')\n",
            "print(pd.DataFrame({k : v for k, v in metrics['hota'].items() if k in ['HOTA', 'DetA', 'AssA', 'LocA']}, index=['values']))"
         ]
      },
      {
         "cell_type": "code",
         "execution_count": 10,
         "metadata": {},
         "outputs": [
            {
               "name": "stdout",
               "output_type": "stream",
               "text": [
                  "CLEARMOT\n",
                  "        MOTP  MOTA  FP_CLEAR  FN_CLEAR  IDSW\n",
                  "values  0.73  -0.1      1477     12159   779\n",
                  "----------\n",
                  "IDs\n",
                  "        IDTP  IDFP   IDFN   IDP   IDR  IDF1\n",
                  "values   181  2274  12956  0.07  0.01  0.02\n",
                  "----------\n",
                  "HOTA\n",
                  "        HOTA  DetA  AssA  LocA\n",
                  "values  0.03  0.08  0.01  0.71\n"
               ]
            }
         ],
         "source": [
            "tracks = Tracks.from_mot('./OUTPUT/all_ants_0-007_yolo_fastreid_deepsort02iou30age_151.txt')\n",
            "\n",
            "metrics = eval_obj.compute(gt_tracks, tracks, clearmot_metrics=True, id_metrics=True, hota_metrics=True)\n",
            "metrics['clearmot']['MOTP'] = 1 - metrics['clearmot']['MOTP']\n",
            "\n",
            "print('CLEARMOT')\n",
            "print(pd.DataFrame(metrics['clearmot'], index=['values']))\n",
            "print('-' * 10)\n",
            "print('IDs')\n",
            "print(pd.DataFrame(metrics['id'], index=['values']))\n",
            "print('-' * 10)\n",
            "print('HOTA')\n",
            "print(pd.DataFrame({k : v for k, v in metrics['hota'].items() if k in ['HOTA', 'DetA', 'AssA', 'LocA']}, index=['values']))"
         ]
      },
      {
         "cell_type": "code",
         "execution_count": 11,
         "metadata": {},
         "outputs": [
            {
               "name": "stdout",
               "output_type": "stream",
               "text": [
                  "CLEARMOT\n",
                  "        MOTP  MOTA  FP_CLEAR  FN_CLEAR  IDSW\n",
                  "values  0.69 -0.35      4651     13043    14\n",
                  "----------\n",
                  "IDs\n",
                  "        IDTP  IDFP   IDFN   IDP       IDR      IDF1\n",
                  "values    77  4668  13060  0.02  5.86e-03  8.61e-03\n",
                  "----------\n",
                  "HOTA\n",
                  "        HOTA  DetA  AssA  LocA\n",
                  "values  0.01  0.01  0.01  0.65\n"
               ]
            }
         ],
         "source": [
            "tracks = Tracks.from_mot('./OUTPUT/all_ants_0-007_yolo_fastreid_deepsort02iou30age_gsi_151.txt')\n",
            "\n",
            "metrics = eval_obj.compute(gt_tracks, tracks, clearmot_metrics=True, id_metrics=True, hota_metrics=True)\n",
            "metrics['clearmot']['MOTP'] = 1 - metrics['clearmot']['MOTP']\n",
            "\n",
            "print('CLEARMOT')\n",
            "print(pd.DataFrame(metrics['clearmot'], index=['values']))\n",
            "print('-' * 10)\n",
            "print('IDs')\n",
            "print(pd.DataFrame(metrics['id'], index=['values']))\n",
            "print('-' * 10)\n",
            "print('HOTA')\n",
            "print(pd.DataFrame({k : v for k, v in metrics['hota'].items() if k in ['HOTA', 'DetA', 'AssA', 'LocA']}, index=['values']))"
         ]
      },
      {
         "cell_type": "code",
         "execution_count": 12,
         "metadata": {},
         "outputs": [
            {
               "name": "stdout",
               "output_type": "stream",
               "text": [
                  "CLEARMOT\n",
                  "        MOTP  MOTA  FP_CLEAR  FN_CLEAR  IDSW\n",
                  "values  0.73  -0.1      1477     12159   779\n",
                  "----------\n",
                  "IDs\n",
                  "        IDTP  IDFP   IDFN   IDP   IDR  IDF1\n",
                  "values   181  2274  12956  0.07  0.01  0.02\n",
                  "----------\n",
                  "HOTA\n",
                  "        HOTA  DetA  AssA  LocA\n",
                  "values  0.03  0.08  0.01  0.71\n"
               ]
            }
         ],
         "source": [
            "tracks = Tracks.from_mot('./OUTPUT/all_ants_0-007_yolo_fastreid_deepsort04iou30age_151.txt')\n",
            "\n",
            "metrics = eval_obj.compute(gt_tracks, tracks, clearmot_metrics=True, id_metrics=True, hota_metrics=True)\n",
            "metrics['clearmot']['MOTP'] = 1 - metrics['clearmot']['MOTP']\n",
            "\n",
            "print('CLEARMOT')\n",
            "print(pd.DataFrame(metrics['clearmot'], index=['values']))\n",
            "print('-' * 10)\n",
            "print('IDs')\n",
            "print(pd.DataFrame(metrics['id'], index=['values']))\n",
            "print('-' * 10)\n",
            "print('HOTA')\n",
            "print(pd.DataFrame({k : v for k, v in metrics['hota'].items() if k in ['HOTA', 'DetA', 'AssA', 'LocA']}, index=['values']))"
         ]
      },
      {
         "cell_type": "code",
         "execution_count": 13,
         "metadata": {},
         "outputs": [
            {
               "name": "stdout",
               "output_type": "stream",
               "text": [
                  "CLEARMOT\n",
                  "        MOTP  MOTA  FP_CLEAR  FN_CLEAR  IDSW\n",
                  "values  0.69 -0.35      4651     13043    14\n",
                  "----------\n",
                  "IDs\n",
                  "        IDTP  IDFP   IDFN   IDP       IDR      IDF1\n",
                  "values    77  4668  13060  0.02  5.86e-03  8.61e-03\n",
                  "----------\n",
                  "HOTA\n",
                  "        HOTA  DetA  AssA  LocA\n",
                  "values  0.01  0.01  0.01  0.65\n"
               ]
            }
         ],
         "source": [
            "tracks = Tracks.from_mot('./OUTPUT/all_ants_0-007_yolo_fastreid_deepsort04iou30age_gsi_151.txt')\n",
            "\n",
            "metrics = eval_obj.compute(gt_tracks, tracks, clearmot_metrics=True, id_metrics=True, hota_metrics=True)\n",
            "metrics['clearmot']['MOTP'] = 1 - metrics['clearmot']['MOTP']\n",
            "\n",
            "print('CLEARMOT')\n",
            "print(pd.DataFrame(metrics['clearmot'], index=['values']))\n",
            "print('-' * 10)\n",
            "print('IDs')\n",
            "print(pd.DataFrame(metrics['id'], index=['values']))\n",
            "print('-' * 10)\n",
            "print('HOTA')\n",
            "print(pd.DataFrame({k : v for k, v in metrics['hota'].items() if k in ['HOTA', 'DetA', 'AssA', 'LocA']}, index=['values']))"
         ]
      },
      {
         "cell_type": "code",
         "execution_count": 14,
         "metadata": {},
         "outputs": [
            {
               "name": "stdout",
               "output_type": "stream",
               "text": [
                  "CLEARMOT\n",
                  "        MOTP  MOTA  FP_CLEAR  FN_CLEAR  IDSW\n",
                  "values  0.77 -0.04      6123      7507     5\n",
                  "----------\n",
                  "IDs\n",
                  "        IDTP  IDFP  IDFN   IDP   IDR  IDF1\n",
                  "values  5587  6166  7550  0.48  0.43  0.45\n",
                  "----------\n",
                  "HOTA\n",
                  "        HOTA  DetA  AssA  LocA\n",
                  "values  0.48   0.4  0.61  0.76\n"
               ]
            }
         ],
         "source": [
            "tracks = Tracks.from_mot('./OUTPUT/all_ants_0-007_yolo_ocsort04th02ciou_151.txt')\n",
            "\n",
            "metrics = eval_obj.compute(gt_tracks, tracks, clearmot_metrics=True, id_metrics=True, hota_metrics=True)\n",
            "metrics['clearmot']['MOTP'] = 1 - metrics['clearmot']['MOTP']\n",
            "\n",
            "print('CLEARMOT')\n",
            "print(pd.DataFrame(metrics['clearmot'], index=['values']))\n",
            "print('-' * 10)\n",
            "print('IDs')\n",
            "print(pd.DataFrame(metrics['id'], index=['values']))\n",
            "print('-' * 10)\n",
            "print('HOTA')\n",
            "print(pd.DataFrame({k : v for k, v in metrics['hota'].items() if k in ['HOTA', 'DetA', 'AssA', 'LocA']}, index=['values']))"
         ]
      },
      {
         "cell_type": "code",
         "execution_count": 15,
         "metadata": {},
         "outputs": [
            {
               "name": "stdout",
               "output_type": "stream",
               "text": [
                  "CLEARMOT\n",
                  "        MOTP  MOTA  FP_CLEAR  FN_CLEAR  IDSW\n",
                  "values  0.77 -0.06      6438      7451     5\n",
                  "----------\n",
                  "IDs\n",
                  "        IDTP  IDFP  IDFN   IDP   IDR  IDF1\n",
                  "values  5642  6482  7495  0.47  0.43  0.45\n",
                  "----------\n",
                  "HOTA\n",
                  "        HOTA  DetA  AssA  LocA\n",
                  "values  0.48   0.4  0.61  0.75\n"
               ]
            }
         ],
         "source": [
            "tracks = Tracks.from_mot('./OUTPUT/all_ants_0-007_yolo_ocsort04th02ciou_gsi_151.txt')\n",
            "\n",
            "metrics = eval_obj.compute(gt_tracks, tracks, clearmot_metrics=True, id_metrics=True, hota_metrics=True)\n",
            "metrics['clearmot']['MOTP'] = 1 - metrics['clearmot']['MOTP']\n",
            "\n",
            "print('CLEARMOT')\n",
            "print(pd.DataFrame(metrics['clearmot'], index=['values']))\n",
            "print('-' * 10)\n",
            "print('IDs')\n",
            "print(pd.DataFrame(metrics['id'], index=['values']))\n",
            "print('-' * 10)\n",
            "print('HOTA')\n",
            "print(pd.DataFrame({k : v for k, v in metrics['hota'].items() if k in ['HOTA', 'DetA', 'AssA', 'LocA']}, index=['values']))"
         ]
      },
      {
         "cell_type": "code",
         "execution_count": 16,
         "metadata": {},
         "outputs": [
            {
               "name": "stdout",
               "output_type": "stream",
               "text": [
                  "CLEARMOT\n",
                  "        MOTP  MOTA  FP_CLEAR  FN_CLEAR  IDSW\n",
                  "values  0.77 -0.04      6086      7508     5\n",
                  "----------\n",
                  "IDs\n",
                  "        IDTP  IDFP  IDFN   IDP   IDR  IDF1\n",
                  "values  5586  6129  7551  0.48  0.43  0.45\n",
                  "----------\n",
                  "HOTA\n",
                  "        HOTA  DetA  AssA  LocA\n",
                  "values  0.48   0.4  0.61  0.76\n"
               ]
            }
         ],
         "source": [
            "tracks = Tracks.from_mot('./OUTPUT/all_ants_0-007_yolo_ocsort04th04ciou_151.txt')\n",
            "\n",
            "metrics = eval_obj.compute(gt_tracks, tracks, clearmot_metrics=True, id_metrics=True, hota_metrics=True)\n",
            "metrics['clearmot']['MOTP'] = 1 - metrics['clearmot']['MOTP']\n",
            "\n",
            "print('CLEARMOT')\n",
            "print(pd.DataFrame(metrics['clearmot'], index=['values']))\n",
            "print('-' * 10)\n",
            "print('IDs')\n",
            "print(pd.DataFrame(metrics['id'], index=['values']))\n",
            "print('-' * 10)\n",
            "print('HOTA')\n",
            "print(pd.DataFrame({k : v for k, v in metrics['hota'].items() if k in ['HOTA', 'DetA', 'AssA', 'LocA']}, index=['values']))"
         ]
      },
      {
         "cell_type": "code",
         "execution_count": 17,
         "metadata": {},
         "outputs": [
            {
               "name": "stdout",
               "output_type": "stream",
               "text": [
                  "CLEARMOT\n",
                  "        MOTP  MOTA  FP_CLEAR  FN_CLEAR  IDSW\n",
                  "values  0.77 -0.06      6443      7447     5\n",
                  "----------\n",
                  "IDs\n",
                  "        IDTP  IDFP  IDFN   IDP   IDR  IDF1\n",
                  "values  5646  6487  7491  0.47  0.43  0.45\n",
                  "----------\n",
                  "HOTA\n",
                  "        HOTA  DetA  AssA  LocA\n",
                  "values  0.48   0.4  0.61  0.75\n"
               ]
            }
         ],
         "source": [
            "tracks = Tracks.from_mot('./OUTPUT/all_ants_0-007_yolo_ocsort04th04ciou_gsi_151.txt')\n",
            "\n",
            "metrics = eval_obj.compute(gt_tracks, tracks, clearmot_metrics=True, id_metrics=True, hota_metrics=True)\n",
            "metrics['clearmot']['MOTP'] = 1 - metrics['clearmot']['MOTP']\n",
            "\n",
            "print('CLEARMOT')\n",
            "print(pd.DataFrame(metrics['clearmot'], index=['values']))\n",
            "print('-' * 10)\n",
            "print('IDs')\n",
            "print(pd.DataFrame(metrics['id'], index=['values']))\n",
            "print('-' * 10)\n",
            "print('HOTA')\n",
            "print(pd.DataFrame({k : v for k, v in metrics['hota'].items() if k in ['HOTA', 'DetA', 'AssA', 'LocA']}, index=['values']))"
         ]
      },
      {
         "cell_type": "code",
         "execution_count": 18,
         "metadata": {},
         "outputs": [
            {
               "name": "stdout",
               "output_type": "stream",
               "text": [
                  "CLEARMOT\n",
                  "        MOTP  MOTA  FP_CLEAR  FN_CLEAR  IDSW\n",
                  "values  0.77 -0.03      5970      7495     3\n",
                  "----------\n",
                  "IDs\n",
                  "        IDTP  IDFP  IDFN   IDP   IDR  IDF1\n",
                  "values  5630  5982  7507  0.48  0.43  0.45\n",
                  "----------\n",
                  "HOTA\n",
                  "        HOTA  DetA  AssA  LocA\n",
                  "values  0.49   0.4  0.63  0.76\n"
               ]
            }
         ],
         "source": [
            "tracks = Tracks.from_mot('./OUTPUT/all_ants_0-007_yolo_ocsort04th06ciou_151.txt')\n",
            "\n",
            "metrics = eval_obj.compute(gt_tracks, tracks, clearmot_metrics=True, id_metrics=True, hota_metrics=True)\n",
            "metrics['clearmot']['MOTP'] = 1 - metrics['clearmot']['MOTP']\n",
            "\n",
            "print('CLEARMOT')\n",
            "print(pd.DataFrame(metrics['clearmot'], index=['values']))\n",
            "print('-' * 10)\n",
            "print('IDs')\n",
            "print(pd.DataFrame(metrics['id'], index=['values']))\n",
            "print('-' * 10)\n",
            "print('HOTA')\n",
            "print(pd.DataFrame({k : v for k, v in metrics['hota'].items() if k in ['HOTA', 'DetA', 'AssA', 'LocA']}, index=['values']))"
         ]
      },
      {
         "cell_type": "code",
         "execution_count": 19,
         "metadata": {},
         "outputs": [
            {
               "name": "stdout",
               "output_type": "stream",
               "text": [
                  "CLEARMOT\n",
                  "        MOTP  MOTA  FP_CLEAR  FN_CLEAR  IDSW\n",
                  "values  0.77 -0.07      6549      7440     4\n",
                  "----------\n",
                  "IDs\n",
                  "        IDTP  IDFP  IDFN   IDP   IDR  IDF1\n",
                  "values  5682  6564  7455  0.46  0.43  0.45\n",
                  "----------\n",
                  "HOTA\n",
                  "        HOTA  DetA  AssA  LocA\n",
                  "values  0.49   0.4  0.63  0.75\n"
               ]
            }
         ],
         "source": [
            "tracks = Tracks.from_mot('./OUTPUT/all_ants_0-007_yolo_ocsort04th06ciou_gsi_151.txt')\n",
            "\n",
            "metrics = eval_obj.compute(gt_tracks, tracks, clearmot_metrics=True, id_metrics=True, hota_metrics=True)\n",
            "metrics['clearmot']['MOTP'] = 1 - metrics['clearmot']['MOTP']\n",
            "\n",
            "print('CLEARMOT')\n",
            "print(pd.DataFrame(metrics['clearmot'], index=['values']))\n",
            "print('-' * 10)\n",
            "print('IDs')\n",
            "print(pd.DataFrame(metrics['id'], index=['values']))\n",
            "print('-' * 10)\n",
            "print('HOTA')\n",
            "print(pd.DataFrame({k : v for k, v in metrics['hota'].items() if k in ['HOTA', 'DetA', 'AssA', 'LocA']}, index=['values']))"
         ]
      },
      {
         "cell_type": "code",
         "execution_count": 20,
         "metadata": {},
         "outputs": [
            {
               "name": "stdout",
               "output_type": "stream",
               "text": [
                  "CLEARMOT\n",
                  "        MOTP  MOTA  FP_CLEAR  FN_CLEAR  IDSW\n",
                  "values  0.77 -0.02      5944      7488     3\n",
                  "----------\n",
                  "IDs\n",
                  "        IDTP  IDFP  IDFN   IDP   IDR  IDF1\n",
                  "values  5637  5956  7500  0.49  0.43  0.46\n",
                  "----------\n",
                  "HOTA\n",
                  "        HOTA  DetA  AssA  LocA\n",
                  "values  0.49   0.4  0.63  0.76\n"
               ]
            }
         ],
         "source": [
            "tracks = Tracks.from_mot('./OUTPUT/all_ants_0-007_yolo_ocsort06th06ciou_151.txt')\n",
            "\n",
            "metrics = eval_obj.compute(gt_tracks, tracks, clearmot_metrics=True, id_metrics=True, hota_metrics=True)\n",
            "metrics['clearmot']['MOTP'] = 1 - metrics['clearmot']['MOTP']\n",
            "\n",
            "print('CLEARMOT')\n",
            "print(pd.DataFrame(metrics['clearmot'], index=['values']))\n",
            "print('-' * 10)\n",
            "print('IDs')\n",
            "print(pd.DataFrame(metrics['id'], index=['values']))\n",
            "print('-' * 10)\n",
            "print('HOTA')\n",
            "print(pd.DataFrame({k : v for k, v in metrics['hota'].items() if k in ['HOTA', 'DetA', 'AssA', 'LocA']}, index=['values']))"
         ]
      },
      {
         "cell_type": "code",
         "execution_count": 21,
         "metadata": {},
         "outputs": [
            {
               "name": "stdout",
               "output_type": "stream",
               "text": [
                  "CLEARMOT\n",
                  "        MOTP  MOTA  FP_CLEAR  FN_CLEAR  IDSW\n",
                  "values  0.77 -0.03      5987      7495     3\n",
                  "----------\n",
                  "IDs\n",
                  "        IDTP  IDFP  IDFN   IDP   IDR  IDF1\n",
                  "values  5630  5999  7507  0.48  0.43  0.45\n",
                  "----------\n",
                  "HOTA\n",
                  "        HOTA  DetA  AssA  LocA\n",
                  "values  0.49   0.4  0.63  0.76\n"
               ]
            }
         ],
         "source": [
            "tracks = Tracks.from_mot('./OUTPUT/all_ants_0-007_yolo_ocsort02th06ciou_151.txt')\n",
            "\n",
            "metrics = eval_obj.compute(gt_tracks, tracks, clearmot_metrics=True, id_metrics=True, hota_metrics=True)\n",
            "metrics['clearmot']['MOTP'] = 1 - metrics['clearmot']['MOTP']\n",
            "\n",
            "print('CLEARMOT')\n",
            "print(pd.DataFrame(metrics['clearmot'], index=['values']))\n",
            "print('-' * 10)\n",
            "print('IDs')\n",
            "print(pd.DataFrame(metrics['id'], index=['values']))\n",
            "print('-' * 10)\n",
            "print('HOTA')\n",
            "print(pd.DataFrame({k : v for k, v in metrics['hota'].items() if k in ['HOTA', 'DetA', 'AssA', 'LocA']}, index=['values']))"
         ]
      },
      {
         "cell_type": "code",
         "execution_count": 22,
         "metadata": {},
         "outputs": [
            {
               "name": "stdout",
               "output_type": "stream",
               "text": [
                  "----------\n",
                  "HOTA alpha\n",
                  "      $HOTA_\\alpha$  $DetA_\\alpha$  $AssA_\\alpha$  $LocA_\\alpha$\n",
                  "0.05           0.03           0.02           0.06           0.96\n",
                  "0.10           0.18           0.10           0.35           0.93\n",
                  "0.15           0.25           0.13           0.50           0.92\n",
                  "0.20           0.27           0.14           0.52           0.91\n",
                  "0.25           0.28           0.15           0.52           0.91\n",
                  "0.30           0.29           0.16           0.51           0.89\n",
                  "0.35           0.31           0.18           0.52           0.87\n",
                  "0.40           0.34           0.21           0.55           0.84\n",
                  "0.45           0.37           0.25           0.57           0.81\n",
                  "0.50           0.43           0.30           0.61           0.77\n",
                  "0.55           0.49           0.36           0.66           0.73\n",
                  "0.60           0.57           0.45           0.73           0.69\n",
                  "0.65           0.64           0.52           0.78           0.66\n",
                  "0.70           0.70           0.60           0.80           0.63\n",
                  "0.75           0.76           0.69           0.83           0.60\n",
                  "0.80           0.81           0.77           0.84           0.58\n",
                  "0.85           0.84           0.84           0.85           0.56\n",
                  "0.90           0.87           0.87           0.87           0.55\n",
                  "0.95           0.87           0.87           0.87           0.55\n"
               ]
            }
         ],
         "source": [
            "tracks = Tracks.from_mot('./OUTPUT/all_ants_0-007_yolo_ocsort04th04ciou_151.txt')\n",
            "\n",
            "print('-' * 10)\n",
            "print('HOTA alpha')\n",
            "\n",
            "new = '_\\\\'\n",
            "hota_alpha = pd.DataFrame({fr\"${k.replace('_', new)}$\" : v for k, v in metrics['hota'].items() if k not in ['HOTA', 'DetA', 'AssA', 'LocA', 'alphas_HOTA']}, index=metrics['hota']['alphas_HOTA'])\n",
            "print(hota_alpha)"
         ]
      },
      {
         "cell_type": "code",
         "execution_count": 23,
         "metadata": {},
         "outputs": [
            {
               "data": {
                  "text/plain": [
                     "Text(0.5, 1.0, 'HOTA Components')"
                  ]
               },
               "execution_count": 23,
               "metadata": {},
               "output_type": "execute_result"
            },
            {
               "data": {
                  "image/png": "[encoded data removed]",
                  "text/plain": [
                     "<Figure size 640x480 with 1 Axes>"
                  ]
               },
               "metadata": {},
               "output_type": "display_data"
            }
         ],
         "source": [
            "fig = hota_alpha.plot.line()\n",
            "fig.grid(True)\n",
            "fig.set_xlim(0, 1)\n",
            "fig.set_ylim(0, 1)\n",
            "fig.set_xlabel(r'Location threshold ($\\alpha$)')\n",
            "fig.set_ylabel(r'$HOTA_{\\alpha}$ Metrics')\n",
            "fig.set_title('HOTA Components')"
         ]
      }
   ],
   "metadata": {
      "kernelspec": {
         "display_name": "Python 3",
         "language": "python",
         "name": "python3"
      },
      "language_info": {
         "codemirror_mode": {
            "name": "ipython",
            "version": 3
         },
         "file_extension": ".py",
         "mimetype": "text/x-python",
         "name": "python",
         "nbconvert_exporter": "python",
         "pygments_lexer": "ipython3",
         "version": "3.10.12"
      },
      "orig_nbformat": 4
   },
   "nbformat": 4,
   "nbformat_minor": 2
}
