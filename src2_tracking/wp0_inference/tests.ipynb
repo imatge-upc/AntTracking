{
 "cells": [
  {
   "cell_type": "markdown",
   "metadata": {},
   "source": [
    "### BBOX TRACKS (not oriented)"
   ]
  },
  {
   "cell_type": "code",
   "execution_count": null,
   "metadata": {},
   "outputs": [],
   "source": [
    "! python -m cProfile -o ANTS_ocsort.prof ~/ANTS/src8_tracking/wp0_inference/ocsort_track.py ~/data/20240926_presentacio/detections/20240716_1510.txt ~/data/20240926_presentacio/20240716_1510_tracks_ANTS.txt --iouThreshold=0.1 --associationFunc=ciou"
   ]
  },
  {
   "cell_type": "code",
   "execution_count": null,
   "metadata": {},
   "outputs": [],
   "source": [
    "! snakeviz ANTS_ocsort.prof"
   ]
  },
  {
   "cell_type": "markdown",
   "metadata": {},
   "source": [
    "### OBBOX TRACKS"
   ]
  },
  {
   "cell_type": "code",
   "execution_count": 3,
   "metadata": {},
   "outputs": [
    {
     "name": "stdout",
     "output_type": "stream",
     "text": [
      "Processing /home/ignasi/data/test_obbox_fgbg/detections/bgfg_x264_stack_20240610_1141/20240610M_04_det.txt\n",
      "Reading row 5000000 for last_frame\n",
      "Reading row 10000000 for last_frame\n",
      "Reading row 15000000 for last_frame\n",
      "Reading row 20000000 for last_frame\n",
      "Processing frame 0 / 57717\n",
      "Processing frame 500 / 57717\n",
      "Processing frame 1000 / 57717\n",
      "^C\n",
      "Traceback (most recent call last):\n",
      "  File \"<frozen runpy>\", line 198, in _run_module_as_main\n",
      "  File \"<frozen runpy>\", line 88, in _run_code\n",
      "  File \"/usr/lib/python3.11/cProfile.py\", line 190, in <module>\n",
      "    main()\n",
      "  File \"/usr/lib/python3.11/cProfile.py\", line 179, in main\n",
      "    runctx(code, globs, None, options.outfile, options.sort)\n",
      "  File \"/usr/lib/python3.11/cProfile.py\", line 19, in runctx\n",
      "    return _pyprofile._Utils(Profile).runctx(statement, globals, locals,\n",
      "           ^^^^^^^^^^^^^^^^^^^^^^^^^^^^^^^^^^^^^^^^^^^^^^^^^^^^^^^^^^^^^\n",
      "  File \"/usr/lib/python3.11/profile.py\", line 62, in runctx\n",
      "    prof.runctx(statement, globals, locals)\n",
      "  File \"/usr/lib/python3.11/cProfile.py\", line 100, in runctx\n",
      "    exec(cmd, globals, locals)\n",
      "  File \"/home/ignasi/ANTS/src8_tracking/wp0_inference/ocsort_track_oriented.py\", line 101, in <module>\n",
      "    main(\n",
      "  File \"/home/ignasi/ANTS/src8_tracking/wp0_inference/ocsort_track_oriented.py\", line 78, in main\n",
      "    online_targets = ocsort_model(frame)\n",
      "                     ^^^^^^^^^^^^^^^^^^^\n",
      "  File \"/home/ignasi/ANTS/ceab_ants/tracking/trackers/sort/sort.py\", line 20, in update\n",
      "    detections = self.detector(input_)\n",
      "                 ^^^^^^^^^^^^^^^^^^^^^\n",
      "  File \"/home/ignasi/ANTS/ceab_ants/io/precomputedMOTDetector.py\", line 81, in __call__\n",
      "    dets = self[self.current_frame]\n",
      "           ~~~~^^^^^^^^^^^^^^^^^^^^\n",
      "  File \"/home/ignasi/ANTS/ceab_ants/io/precomputedMOTDetector.py\", line 93, in __getitem__\n",
      "    dets = self.buf_dets[self.buf_dets[:, 0] == key, :][:, [2, 3, 4, 5, 10, 6]]\n",
      "           ~~~~~~~~~~~~~~~~~~~~~~~~~~~~~~~~~~~~~~~~~~~~^^^^^^^^^^^^^^^^^^^^^^^^\n",
      "KeyboardInterrupt\n"
     ]
    }
   ],
   "source": [
    "! python -m cProfile -o ANTS_ocsort_oriented.prof ~/ANTS/src8_tracking/wp0_inference/ocsort_track_oriented.py ~/data/test_obbox_fgbg/detections/bgfg_x264_stack_20240610_1141/20240610M_04_det.txt 20240610M_04_tracks.txt --iouThreshold=0.1 --associationFunc=ciou"
   ]
  },
  {
   "cell_type": "code",
   "execution_count": 1,
   "metadata": {},
   "outputs": [],
   "source": [
    "\"\"\"\n",
    "Processing /home/ignasi/data/test_obbox_fgbg/detections/bgfg_x264_stack_20240610_1141/20240610M_04_det.txt\n",
    "Processing frame 0\n",
    "/home/ignasi/JAW/JAW/utils/bbox_sort/obbox_metrics.py:135: RuntimeWarning: divide by zero encountered in divide\n",
    "  distance = lambda w1, h1, w2, h2 : ((np.arctan(w2 / (h2 + 1)) - np.arctan(w1 / (h1 + 1))) ** 2) / max_dist # cuadratic angular distance\n",
    "Processing frame 500\n",
    "Processing frame 1000\n",
    "Total Tracking took: 103.665 seconds for 1001 frames or 9.7 FPS\n",
    "\"\"\"\n",
    "\n",
    "_ = None"
   ]
  },
  {
   "cell_type": "code",
   "execution_count": null,
   "metadata": {},
   "outputs": [],
   "source": [
    "! snakeviz ANTS_ocsort.prof"
   ]
  },
  {
   "cell_type": "code",
   "execution_count": 5,
   "metadata": {},
   "outputs": [
    {
     "name": "stdout",
     "output_type": "stream",
     "text": [
      "Processing /home/ignasi/data/test_obbox_fgbg/20240626_1554_cat_det_nms.txt\n",
      "/home/ignasi/ANTS/src8_tracking/wp0_inference/detectors/precomputedMOTDetector.py:43: UserWarning: loadtxt: input contained no data: \"/home/ignasi/data/test_obbox_fgbg/20240626_1554_cat_det_nms.txt\"\n",
      "  seq_dets = np.loadtxt(self.seq_path, delimiter=',', skiprows=skiprows, max_rows=self.max_rows)\n",
      "Processing frame 0\n",
      "/home/ignasi/JAW/JAW/utils/bbox_sort/obbox_metrics.py:136: RuntimeWarning: divide by zero encountered in divide\n",
      "  a = np.arctan(w2 / (h2 + 1))\n",
      "Processing frame 500\n",
      "Processing frame 1000\n",
      "^C\n",
      "Traceback (most recent call last):\n",
      "  File \"/home/ignasi/ANTS/src8_tracking/wp0_inference/ocsort_track_oriented.py\", line 101, in <module>\n",
      "    main(\n",
      "  File \"/home/ignasi/ANTS/src8_tracking/wp0_inference/ocsort_track_oriented.py\", line 76, in main\n",
      "    online_targets = ocsort_model(frame)\n",
      "                     ^^^^^^^^^^^^^^^^^^^\n",
      "  File \"/home/ignasi/JAW/JAW/sciJAW/sort/sort.py\", line 26, in update\n",
      "    matches = self.associator(input_, detections, tracks)\n",
      "              ^^^^^^^^^^^^^^^^^^^^^^^^^^^^^^^^^^^^^^^^^^^\n",
      "  File \"/home/ignasi/JAW/JAW/sciJAW/sort/ocsort_utils/associator.py\", line 82, in associate\n",
      "    second_matches = self.associate_low(unmatched_detections, unmatched_trackers)\n",
      "                     ^^^^^^^^^^^^^^^^^^^^^^^^^^^^^^^^^^^^^^^^^^^^^^^^^^^^^^^^^^^^\n",
      "  File \"/home/ignasi/JAW/JAW/sciJAW/sort/ocsort_utils/associator.py\", line 121, in associate_low\n",
      "    score_matrix = self.second_score_function(low_detections, unmatched_trackers)\n",
      "                   ^^^^^^^^^^^^^^^^^^^^^^^^^^^^^^^^^^^^^^^^^^^^^^^^^^^^^^^^^^^^^^\n",
      "  File \"/home/ignasi/JAW/JAW/utils/bbox_sort/obbox_metrics.py\", line 204, in ciou_obbox_batch\n",
      "    outer_dist_matrix = enclosing_diagonal_obbox_batch(bb_test, bb_gt) # N, M\n",
      "                        ^^^^^^^^^^^^^^^^^^^^^^^^^^^^^^^^^^^^^^^^^^^^^^\n",
      "  File \"/home/ignasi/JAW/JAW/utils/bbox_sort/obbox_metrics.py\", line 126, in enclosing_diagonal_obbox_batch\n",
      "    encloseures_matrix = np.asarray( [[ enclosure(obb_t, obb_g) for obb_g in obbs_gt] for obb_t in obbs_test] ).reshape(-1, len(obbs_gt), 10) # N, M, 10\n",
      "                                     ^^^^^^^^^^^^^^^^^^^^^^^^^^^^^^^^^^^^^^^^^^^^^^^^^^^^^^^^^^^^^^^^^^^^^^^^\n",
      "  File \"/home/ignasi/JAW/JAW/utils/bbox_sort/obbox_metrics.py\", line 126, in <listcomp>\n",
      "    encloseures_matrix = np.asarray( [[ enclosure(obb_t, obb_g) for obb_g in obbs_gt] for obb_t in obbs_test] ).reshape(-1, len(obbs_gt), 10) # N, M, 10\n",
      "                                      ^^^^^^^^^^^^^^^^^^^^^^^^^^^^^^^^^^^^^^^^^^^^^^^\n",
      "  File \"/home/ignasi/JAW/JAW/utils/bbox_sort/obbox_metrics.py\", line 126, in <listcomp>\n",
      "    encloseures_matrix = np.asarray( [[ enclosure(obb_t, obb_g) for obb_g in obbs_gt] for obb_t in obbs_test] ).reshape(-1, len(obbs_gt), 10) # N, M, 10\n",
      "                                        ^^^^^^^^^^^^^^^^^^^^^^^\n",
      "  File \"/home/ignasi/JAW/JAW/utils/bbox_sort/obbox_metrics.py\", line 125, in <lambda>\n",
      "    enclosure = lambda obb_t, obb_g : np.asarray( oriented_envelope(MultiPolygon([obb_t, obb_g])).normalize().exterior.coords.xy ).T.reshape(-1)\n",
      "                                                  ^^^^^^^^^^^^^^^^^^^^^^^^^^^^^^^^^^^^^^^^^^^^^^^\n",
      "  File \"/home/ignasi/.local/lib/python3.11/site-packages/shapely/constructive.py\", line 1034, in oriented_envelope\n",
      "    return f(geometry, **kwargs)\n",
      "           ^^^^^^^^^^^^^^^^^^^^^\n",
      "  File \"/home/ignasi/.local/lib/python3.11/site-packages/shapely/algorithms/_oriented_envelope.py\", line 10, in _oriented_envelope_min_area\n",
      "    def _oriented_envelope_min_area(geometry, **kwargs):\n",
      "    \n",
      "KeyboardInterrupt\n"
     ]
    }
   ],
   "source": [
    "! python ~/ANTS/src8_tracking/wp0_inference/ocsort_track_oriented.py ~/data/test_obbox_fgbg/20240626_1554_cat_det_nms.txt 20240626_1554_tracks.txt --iouThreshold=0.1 --associationFunc=ciou"
   ]
  },
  {
   "cell_type": "code",
   "execution_count": null,
   "metadata": {},
   "outputs": [],
   "source": []
  }
 ],
 "metadata": {
  "kernelspec": {
   "display_name": "Python 3",
   "language": "python",
   "name": "python3"
  },
  "language_info": {
   "codemirror_mode": {
    "name": "ipython",
    "version": 3
   },
   "file_extension": ".py",
   "mimetype": "text/x-python",
   "name": "python",
   "nbconvert_exporter": "python",
   "pygments_lexer": "ipython3",
   "version": "3.11.0"
  }
 },
 "nbformat": 4,
 "nbformat_minor": 2
}
